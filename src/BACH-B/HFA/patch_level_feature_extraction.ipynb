{
 "cells": [
  {
   "cell_type": "code",
   "execution_count": 1,
   "id": "9ef524f0",
   "metadata": {
    "execution": {
     "iopub.execute_input": "2024-08-22T14:13:43.739335Z",
     "iopub.status.busy": "2024-08-22T14:13:43.738465Z",
     "iopub.status.idle": "2024-08-22T14:14:05.490851Z",
     "shell.execute_reply": "2024-08-22T14:14:05.489784Z"
    },
    "papermill": {
     "duration": 21.763411,
     "end_time": "2024-08-22T14:14:05.493676",
     "exception": false,
     "start_time": "2024-08-22T14:13:43.730265",
     "status": "completed"
    },
    "tags": []
   },
   "outputs": [
    {
     "name": "stderr",
     "output_type": "stream",
     "text": [
      "2024-08-22 14:13:52.412004: E external/local_xla/xla/stream_executor/cuda/cuda_dnn.cc:9261] Unable to register cuDNN factory: Attempting to register factory for plugin cuDNN when one has already been registered\n",
      "2024-08-22 14:13:52.412137: E external/local_xla/xla/stream_executor/cuda/cuda_fft.cc:607] Unable to register cuFFT factory: Attempting to register factory for plugin cuFFT when one has already been registered\n",
      "2024-08-22 14:13:52.569969: E external/local_xla/xla/stream_executor/cuda/cuda_blas.cc:1515] Unable to register cuBLAS factory: Attempting to register factory for plugin cuBLAS when one has already been registered\n"
     ]
    }
   ],
   "source": [
    "# importing necessary libraries \n",
    "\n",
    "import torch\n",
    "import torch.nn as nn\n",
    "import torch.optim as optim\n",
    "from torch.utils.data import DataLoader, Dataset\n",
    "import torchvision \n",
    "from torchvision import transforms, datasets, models \n",
    "from torch.nn import functional as F \n",
    "from PIL import Image\n",
    "import pandas as pd \n",
    "import numpy as np\n",
    "import tensorflow as tf\n",
    "import os\n",
    "import sys\n",
    "import glob\n",
    "from tqdm.notebook import tqdm\n",
    "import matplotlib.pyplot as plt \n",
    "import cv2\n",
    "import json \n",
    "from tqdm import tqdm\n",
    "from sklearn.decomposition import PCA \n",
    "from sklearn.preprocessing import StandardScaler\n",
    "from skimage.transform import rotate, AffineTransform\n",
    "import random\n",
    "from scipy import ndimage\n",
    "import openslide\n",
    "import matplotlib.patches as patches\n",
    "from matplotlib.patches import Polygon\n",
    "import xml.etree.ElementTree as ET "
   ]
  },
  {
   "cell_type": "markdown",
   "id": "9868ed38",
   "metadata": {
    "papermill": {
     "duration": 0.005869,
     "end_time": "2024-08-22T14:14:05.506004",
     "exception": false,
     "start_time": "2024-08-22T14:14:05.500135",
     "status": "completed"
    },
    "tags": []
   },
   "source": [
    "**EXTRACTING PATCH EMBEDDINGS** "
   ]
  },
  {
   "cell_type": "code",
   "execution_count": 2,
   "id": "ab166f18",
   "metadata": {
    "execution": {
     "iopub.execute_input": "2024-08-22T14:14:05.520127Z",
     "iopub.status.busy": "2024-08-22T14:14:05.519376Z",
     "iopub.status.idle": "2024-08-22T14:14:14.614346Z",
     "shell.execute_reply": "2024-08-22T14:14:14.613180Z"
    },
    "papermill": {
     "duration": 9.105287,
     "end_time": "2024-08-22T14:14:14.617258",
     "exception": false,
     "start_time": "2024-08-22T14:14:05.511971",
     "status": "completed"
    },
    "tags": []
   },
   "outputs": [
    {
     "name": "stderr",
     "output_type": "stream",
     "text": [
      "/opt/conda/lib/python3.10/site-packages/torchvision/models/_utils.py:223: UserWarning: Arguments other than a weight enum or `None` for 'weights' are deprecated since 0.13 and may be removed in the future. The current behavior is equivalent to passing `weights=ResNet50_Weights.IMAGENET1K_V1`. You can also use `weights=ResNet50_Weights.DEFAULT` to get the most up-to-date weights.\n",
      "  warnings.warn(msg)\n",
      "Downloading: \"https://download.pytorch.org/models/resnet50-0676ba61.pth\" to /root/.cache/torch/hub/checkpoints/resnet50-0676ba61.pth\n",
      "100%|██████████| 97.8M/97.8M [00:07<00:00, 13.8MB/s]\n"
     ]
    }
   ],
   "source": [
    "# feature extractor for patches \n",
    "\n",
    "class Resnet50(nn.Module):\n",
    "    def __init__(self,num_classes):\n",
    "        #define necessary layers\n",
    "        super().__init__()\n",
    "        self.num_classes = num_classes\n",
    "        self.model = models.resnet50(weights=True)\n",
    "        \n",
    "        # Unfreeze model weights\n",
    "        for param in self.model.parameters():\n",
    "            param.requires_grad = False \n",
    "        \n",
    "    def forward(self,X):\n",
    "        #define forward pass here\n",
    "        X = self.model(X)\n",
    "        return X        \n",
    "            \n",
    "model = Resnet50(1)"
   ]
  },
  {
   "cell_type": "code",
   "execution_count": 3,
   "id": "9d028eb5",
   "metadata": {
    "execution": {
     "iopub.execute_input": "2024-08-22T14:14:14.645489Z",
     "iopub.status.busy": "2024-08-22T14:14:14.644503Z",
     "iopub.status.idle": "2024-08-22T14:14:14.650652Z",
     "shell.execute_reply": "2024-08-22T14:14:14.649379Z"
    },
    "papermill": {
     "duration": 0.022474,
     "end_time": "2024-08-22T14:14:14.652982",
     "exception": false,
     "start_time": "2024-08-22T14:14:14.630508",
     "status": "completed"
    },
    "tags": []
   },
   "outputs": [],
   "source": [
    "# transform function for patches \n",
    "\n",
    "transform = torchvision.transforms.Compose(\n",
    "    [ \n",
    "        torchvision.transforms.Normalize((0.485, 0.456, 0.406), (0.229, 0.224, 0.225)),  # normalization\n",
    "    ] \n",
    ") "
   ]
  },
  {
   "cell_type": "code",
   "execution_count": 4,
   "id": "302097d0",
   "metadata": {
    "execution": {
     "iopub.execute_input": "2024-08-22T14:14:14.680846Z",
     "iopub.status.busy": "2024-08-22T14:14:14.680415Z",
     "iopub.status.idle": "2024-08-22T14:14:14.686958Z",
     "shell.execute_reply": "2024-08-22T14:14:14.685760Z"
    },
    "papermill": {
     "duration": 0.023331,
     "end_time": "2024-08-22T14:14:14.689390",
     "exception": false,
     "start_time": "2024-08-22T14:14:14.666059",
     "status": "completed"
    },
    "tags": []
   },
   "outputs": [],
   "source": [
    "# function to obtain feature embedding for a given patch \n",
    "\n",
    "def get_feature_vector(img): \n",
    "    img = torch.from_numpy(img.astype(np.double)) \n",
    "    img = img.permute(2, 0, 1) \n",
    "    img = transform(img) \n",
    "    img = img.float() \n",
    "    img = torch.unsqueeze(img, dim=0) \n",
    "    return model(img) "
   ]
  },
  {
   "cell_type": "code",
   "execution_count": 5,
   "id": "ee7090a9",
   "metadata": {
    "execution": {
     "iopub.execute_input": "2024-08-22T14:14:14.717040Z",
     "iopub.status.busy": "2024-08-22T14:14:14.716151Z",
     "iopub.status.idle": "2024-08-22T14:14:14.724633Z",
     "shell.execute_reply": "2024-08-22T14:14:14.723497Z"
    },
    "papermill": {
     "duration": 0.024846,
     "end_time": "2024-08-22T14:14:14.727029",
     "exception": false,
     "start_time": "2024-08-22T14:14:14.702183",
     "status": "completed"
    },
    "tags": []
   },
   "outputs": [],
   "source": [
    "# function to obtain the percentage of while area in a given patch \n",
    "\n",
    "# threshold for labelling a pixel as white \n",
    "thresh = 200 \n",
    "\n",
    "# mask for visualization of white area in a patch \n",
    "mask = np.zeros((224, 224, 3), dtype = np.uint8)\n",
    "\n",
    "# function to get percentage of white area in a patch \n",
    "def get_perc_white_area(img): \n",
    "    \n",
    "    count = 0 \n",
    "    white = 0 \n",
    "    \n",
    "    i = 0 \n",
    "    for row in img: \n",
    "        j = 0 \n",
    "        for index in row: \n",
    "\n",
    "            count = count + 1 \n",
    "            rgb = 0.299 * index[0] + 0.587 * index[1] + 0.114 * index[2] \n",
    "            if rgb > thresh: \n",
    "                white = white + 1 \n",
    "                \n",
    "            j += 1\n",
    "        i += 1\n",
    "\n",
    "    return (white / count) * 100"
   ]
  },
  {
   "cell_type": "code",
   "execution_count": 6,
   "id": "71c76aac",
   "metadata": {
    "execution": {
     "iopub.execute_input": "2024-08-22T14:14:14.754709Z",
     "iopub.status.busy": "2024-08-22T14:14:14.754276Z",
     "iopub.status.idle": "2024-08-22T14:14:14.773506Z",
     "shell.execute_reply": "2024-08-22T14:14:14.772166Z"
    },
    "papermill": {
     "duration": 0.03616,
     "end_time": "2024-08-22T14:14:14.776154",
     "exception": false,
     "start_time": "2024-08-22T14:14:14.739994",
     "status": "completed"
    },
    "tags": []
   },
   "outputs": [],
   "source": [
    "# function to return feature vectors along with labels for patches \n",
    "\n",
    "def get_patch_embeddings(wsi_nos): \n",
    "    \n",
    "    wsi_ids = [] \n",
    "    ann_ids = [] \n",
    "    feature_vectors = [] \n",
    "    labels = [] \n",
    "    white_area_percentages = [] \n",
    "    x_pixels = [] \n",
    "    y_pixels = [] \n",
    "    \n",
    "    for k in range(len(wsi_nos)): \n",
    "        \n",
    "        print(wsi_nos[k]) \n",
    "        \n",
    "        # Path to the SVS and XML files\n",
    "        img_path = '/kaggle/input/bach-breast-cancer-histology-images/ICIAR2018_BACH_Challenge/ICIAR2018_BACH_Challenge/WSI/' + wsi_nos[k] + '.svs' \n",
    "        ann_path = '/kaggle/input/bach-breast-cancer-histology-images/ICIAR2018_BACH_Challenge/ICIAR2018_BACH_Challenge/WSI/' + wsi_nos[k] + '.xml' \n",
    "\n",
    "        # Open the SVS file\n",
    "        slide = openslide.OpenSlide(img_path)\n",
    "\n",
    "        # Choosing a level (e.g., 0 for the highest resolution)\n",
    "        level = 0\n",
    "\n",
    "        # Get slide dimensions at the selected level\n",
    "        width, height = slide.level_dimensions[level] \n",
    "\n",
    "        # Load and parse the XML file\n",
    "        tree = ET.parse(ann_path)\n",
    "        root = tree.getroot() \n",
    "\n",
    "        ann_no = 1 \n",
    "        # Extract coordinates for each region and group by class\n",
    "        for region in root.findall('.//Region'):\n",
    "            # Try to get the region_value(class) from the Attribute tag first\n",
    "            attribute = region.find('.//Attribute')\n",
    "            if attribute is not None:\n",
    "                region_value = attribute.get('Value')\n",
    "            else:\n",
    "                # If no Attribute is found, fall back to the Text attribute in the Region tag\n",
    "                region_value = region.get('Text') \n",
    "            \n",
    "            min_x = float('inf')\n",
    "            max_x = float('-inf')\n",
    "            min_y = float('inf')\n",
    "            max_y = float('-inf') \n",
    "            \n",
    "            for vertex in region.findall('.//Vertex'): \n",
    "                \n",
    "                # Update min and max x and y coordinates\n",
    "                min_x = min(min_x, float(vertex.get('X')))\n",
    "                max_x = max(max_x, float(vertex.get('X')))\n",
    "                min_y = min(min_y, float(vertex.get('Y')))\n",
    "                max_y = max(max_y, float(vertex.get('Y'))) \n",
    "            \n",
    "            # loop to slide vertically for patches \n",
    "            for i in range(int(min_y), int(max_y), 224): \n",
    "\n",
    "                # loop to slide horizontally \n",
    "                for j in range(int(min_x), int(max_x), 224): \n",
    "\n",
    "                    # Read a region of the slide at the selected level (current patch) \n",
    "                    curr_patch = slide.read_region((j, i), level, (224, 224)) \n",
    "\n",
    "                    # Convert to numpy array \n",
    "                    curr_patch = np.array(curr_patch) \n",
    "                    curr_patch = curr_patch[:, :, :3] \n",
    "                    \n",
    "                    # Normalization (remove in case of issues with results) \n",
    "                    #curr_patch /= 255.0 \n",
    "                    \n",
    "                    # Storing percentage of white area \n",
    "                    white_area_perc = get_perc_white_area(curr_patch) \n",
    "                    white_area_percentages.append(white_area_perc) \n",
    "\n",
    "                    # Storing feature vector \n",
    "                    feature_vector = get_feature_vector(curr_patch) \n",
    "                    squeezed_arr = np.squeeze(feature_vector) \n",
    "                    \n",
    "                    feature_vectors.append(squeezed_arr) \n",
    "\n",
    "                    # Storing labels \n",
    "                    labels.append(region_value) \n",
    "\n",
    "                    # Storing WSI Id \n",
    "                    wsi_ids.append(k) \n",
    "\n",
    "                    # Storing annotation Id \n",
    "                    ann_ids.append(ann_no) \n",
    "                    \n",
    "                    # Storing starting pixel values \n",
    "                    x_pixels.append(j) \n",
    "                    y_pixels.append(i) \n",
    "            \n",
    "            print('annotation', ann_no, 'done') \n",
    "            \n",
    "            ann_no += 1 \n",
    "\n",
    "        # Close the slide\n",
    "        slide.close() \n",
    "    \n",
    "    return wsi_ids, ann_ids, feature_vectors, white_area_percentages, x_pixels, y_pixels, labels "
   ]
  },
  {
   "cell_type": "code",
   "execution_count": 7,
   "id": "0002efcf",
   "metadata": {
    "execution": {
     "iopub.execute_input": "2024-08-22T14:14:14.804528Z",
     "iopub.status.busy": "2024-08-22T14:14:14.803315Z",
     "iopub.status.idle": "2024-08-22T14:14:14.808894Z",
     "shell.execute_reply": "2024-08-22T14:14:14.807768Z"
    },
    "papermill": {
     "duration": 0.022126,
     "end_time": "2024-08-22T14:14:14.811419",
     "exception": false,
     "start_time": "2024-08-22T14:14:14.789293",
     "status": "completed"
    },
    "tags": []
   },
   "outputs": [],
   "source": [
    "# unique ids for annotated wsis \n",
    "\n",
    "ids = ['A01', 'A02', 'A03', 'A04', 'A05', 'A06', 'A07', 'A08', 'A09', 'A10'] "
   ]
  },
  {
   "cell_type": "code",
   "execution_count": 8,
   "id": "77788cec",
   "metadata": {
    "execution": {
     "iopub.execute_input": "2024-08-22T14:14:14.839909Z",
     "iopub.status.busy": "2024-08-22T14:14:14.839524Z",
     "iopub.status.idle": "2024-08-23T00:00:09.268535Z",
     "shell.execute_reply": "2024-08-23T00:00:09.266043Z"
    },
    "papermill": {
     "duration": 35154.473263,
     "end_time": "2024-08-23T00:00:09.298405",
     "exception": false,
     "start_time": "2024-08-22T14:14:14.825142",
     "status": "completed"
    },
    "tags": []
   },
   "outputs": [
    {
     "name": "stdout",
     "output_type": "stream",
     "text": [
      "A03\n",
      "annotation 1 done\n",
      "annotation 2 done\n",
      "annotation 3 done\n",
      "annotation 4 done\n",
      "annotation 5 done\n",
      "annotation 6 done\n",
      "annotation 7 done\n",
      "annotation 8 done\n",
      "annotation 9 done\n",
      "annotation 10 done\n",
      "A04\n",
      "annotation 1 done\n"
     ]
    }
   ],
   "source": [
    "# obtaining patch embeddings for all wsis \n",
    "\n",
    "start = 2 \n",
    "stop = 4 \n",
    "\n",
    "wsi_ids, ann_ids, patch_embeddings, white_area_percentages, x_loc, y_loc, patch_labels = get_patch_embeddings(ids[start:stop]) "
   ]
  },
  {
   "cell_type": "markdown",
   "id": "d0923a57",
   "metadata": {
    "papermill": {
     "duration": 0.016354,
     "end_time": "2024-08-23T00:00:09.334062",
     "exception": false,
     "start_time": "2024-08-23T00:00:09.317708",
     "status": "completed"
    },
    "tags": []
   },
   "source": [
    "**SAVING PATCH LEVEL DATA & EMBEDDINGS** "
   ]
  },
  {
   "cell_type": "code",
   "execution_count": 9,
   "id": "190005bb",
   "metadata": {
    "execution": {
     "iopub.execute_input": "2024-08-23T00:00:09.367322Z",
     "iopub.status.busy": "2024-08-23T00:00:09.366765Z",
     "iopub.status.idle": "2024-08-23T00:00:09.506858Z",
     "shell.execute_reply": "2024-08-23T00:00:09.505489Z"
    },
    "papermill": {
     "duration": 0.162355,
     "end_time": "2024-08-23T00:00:09.510885",
     "exception": false,
     "start_time": "2024-08-23T00:00:09.348530",
     "status": "completed"
    },
    "tags": []
   },
   "outputs": [],
   "source": [
    "# storing patch info in a pandas dataframe \n",
    "\n",
    "patch_info_df = pd.DataFrame({ \n",
    "                'WSI Id' : wsi_ids, \n",
    "                'Annotation No.' : ann_ids, \n",
    "                'X Start Pixel': x_loc, \n",
    "                'Y Start Pixel': y_loc, \n",
    "                'White Area %': white_area_percentages, \n",
    "                'Label': patch_labels \n",
    "}) "
   ]
  },
  {
   "cell_type": "code",
   "execution_count": 10,
   "id": "795a01c7",
   "metadata": {
    "execution": {
     "iopub.execute_input": "2024-08-23T00:00:09.544225Z",
     "iopub.status.busy": "2024-08-23T00:00:09.543778Z",
     "iopub.status.idle": "2024-08-23T00:00:09.594292Z",
     "shell.execute_reply": "2024-08-23T00:00:09.592781Z"
    },
    "papermill": {
     "duration": 0.071986,
     "end_time": "2024-08-23T00:00:09.598657",
     "exception": false,
     "start_time": "2024-08-23T00:00:09.526671",
     "status": "completed"
    },
    "tags": []
   },
   "outputs": [
    {
     "data": {
      "text/html": [
       "<div>\n",
       "<style scoped>\n",
       "    .dataframe tbody tr th:only-of-type {\n",
       "        vertical-align: middle;\n",
       "    }\n",
       "\n",
       "    .dataframe tbody tr th {\n",
       "        vertical-align: top;\n",
       "    }\n",
       "\n",
       "    .dataframe thead th {\n",
       "        text-align: right;\n",
       "    }\n",
       "</style>\n",
       "<table border=\"1\" class=\"dataframe\">\n",
       "  <thead>\n",
       "    <tr style=\"text-align: right;\">\n",
       "      <th></th>\n",
       "      <th>WSI Id</th>\n",
       "      <th>Annotation No.</th>\n",
       "      <th>X Start Pixel</th>\n",
       "      <th>Y Start Pixel</th>\n",
       "      <th>White Area %</th>\n",
       "      <th>Label</th>\n",
       "    </tr>\n",
       "  </thead>\n",
       "  <tbody>\n",
       "    <tr>\n",
       "      <th>0</th>\n",
       "      <td>0</td>\n",
       "      <td>1</td>\n",
       "      <td>6920</td>\n",
       "      <td>8112</td>\n",
       "      <td>34.757653</td>\n",
       "      <td>Carcinoma in situ</td>\n",
       "    </tr>\n",
       "    <tr>\n",
       "      <th>1</th>\n",
       "      <td>0</td>\n",
       "      <td>1</td>\n",
       "      <td>7144</td>\n",
       "      <td>8112</td>\n",
       "      <td>27.377631</td>\n",
       "      <td>Carcinoma in situ</td>\n",
       "    </tr>\n",
       "    <tr>\n",
       "      <th>2</th>\n",
       "      <td>0</td>\n",
       "      <td>1</td>\n",
       "      <td>7368</td>\n",
       "      <td>8112</td>\n",
       "      <td>29.771205</td>\n",
       "      <td>Carcinoma in situ</td>\n",
       "    </tr>\n",
       "    <tr>\n",
       "      <th>3</th>\n",
       "      <td>0</td>\n",
       "      <td>1</td>\n",
       "      <td>7592</td>\n",
       "      <td>8112</td>\n",
       "      <td>18.351403</td>\n",
       "      <td>Carcinoma in situ</td>\n",
       "    </tr>\n",
       "    <tr>\n",
       "      <th>4</th>\n",
       "      <td>0</td>\n",
       "      <td>1</td>\n",
       "      <td>7816</td>\n",
       "      <td>8112</td>\n",
       "      <td>11.882175</td>\n",
       "      <td>Carcinoma in situ</td>\n",
       "    </tr>\n",
       "  </tbody>\n",
       "</table>\n",
       "</div>"
      ],
      "text/plain": [
       "   WSI Id  Annotation No.  X Start Pixel  Y Start Pixel  White Area %  \\\n",
       "0       0               1           6920           8112     34.757653   \n",
       "1       0               1           7144           8112     27.377631   \n",
       "2       0               1           7368           8112     29.771205   \n",
       "3       0               1           7592           8112     18.351403   \n",
       "4       0               1           7816           8112     11.882175   \n",
       "\n",
       "               Label  \n",
       "0  Carcinoma in situ  \n",
       "1  Carcinoma in situ  \n",
       "2  Carcinoma in situ  \n",
       "3  Carcinoma in situ  \n",
       "4  Carcinoma in situ  "
      ]
     },
     "execution_count": 10,
     "metadata": {},
     "output_type": "execute_result"
    }
   ],
   "source": [
    "patch_info_df.head() "
   ]
  },
  {
   "cell_type": "code",
   "execution_count": 11,
   "id": "4f399840",
   "metadata": {
    "execution": {
     "iopub.execute_input": "2024-08-23T00:00:09.634409Z",
     "iopub.status.busy": "2024-08-23T00:00:09.633905Z",
     "iopub.status.idle": "2024-08-23T00:00:09.985914Z",
     "shell.execute_reply": "2024-08-23T00:00:09.983854Z"
    },
    "papermill": {
     "duration": 0.373409,
     "end_time": "2024-08-23T00:00:09.989500",
     "exception": false,
     "start_time": "2024-08-23T00:00:09.616091",
     "status": "completed"
    },
    "tags": []
   },
   "outputs": [],
   "source": [
    "# saving csv file \n",
    "\n",
    "csv_file_path = '/kaggle/working/bach_patch_info_2_4.csv'\n",
    "\n",
    "# Save the DataFrame to a CSV file \n",
    "patch_info_df.to_csv(csv_file_path, index=False) "
   ]
  },
  {
   "cell_type": "code",
   "execution_count": 12,
   "id": "0fd433a8",
   "metadata": {
    "execution": {
     "iopub.execute_input": "2024-08-23T00:00:10.022759Z",
     "iopub.status.busy": "2024-08-23T00:00:10.022164Z",
     "iopub.status.idle": "2024-08-23T00:00:15.363405Z",
     "shell.execute_reply": "2024-08-23T00:00:15.362119Z"
    },
    "papermill": {
     "duration": 5.366721,
     "end_time": "2024-08-23T00:00:15.371363",
     "exception": false,
     "start_time": "2024-08-23T00:00:10.004642",
     "status": "completed"
    },
    "tags": []
   },
   "outputs": [],
   "source": [
    "# storing patch embeddings in pth file \n",
    "\n",
    "torch.save(patch_embeddings,'bach_patch_info_2_4.pth') "
   ]
  },
  {
   "cell_type": "code",
   "execution_count": 13,
   "id": "36d1785e",
   "metadata": {
    "execution": {
     "iopub.execute_input": "2024-08-23T00:00:15.428224Z",
     "iopub.status.busy": "2024-08-23T00:00:15.427670Z",
     "iopub.status.idle": "2024-08-23T00:00:15.433841Z",
     "shell.execute_reply": "2024-08-23T00:00:15.432424Z"
    },
    "papermill": {
     "duration": 0.048588,
     "end_time": "2024-08-23T00:00:15.437079",
     "exception": false,
     "start_time": "2024-08-23T00:00:15.388491",
     "status": "completed"
    },
    "tags": []
   },
   "outputs": [],
   "source": [
    "# merging 3 train csvs together \n",
    "\n",
    "#path_1 = 'somepath1' \n",
    "#path_2 = 'somepath2' \n",
    "#path_3 = 'somepath3' \n",
    "\n",
    "#df1 = pd.read_csv(path_1) \n",
    "#df2 = pd.read_csv(path_2) \n",
    "#df3 = pd.read_csv(path_3) \n",
    "\n",
    "#df_all = pd.concat([df1, df2, df3], axis=0).reset_index(drop = True) \n",
    "\n",
    "#df_all.to_csv(kaggle_directory1 + 'train_annotations.csv', index = False) "
   ]
  },
  {
   "cell_type": "code",
   "execution_count": null,
   "id": "beab1ee0",
   "metadata": {
    "papermill": {
     "duration": 0.017665,
     "end_time": "2024-08-23T00:00:15.470664",
     "exception": false,
     "start_time": "2024-08-23T00:00:15.452999",
     "status": "completed"
    },
    "tags": []
   },
   "outputs": [],
   "source": []
  }
 ],
 "metadata": {
  "kaggle": {
   "accelerator": "none",
   "dataSources": [
    {
     "datasetId": 2929186,
     "sourceId": 5045636,
     "sourceType": "datasetVersion"
    },
    {
     "datasetId": 5521059,
     "sourceId": 9202074,
     "sourceType": "datasetVersion"
    }
   ],
   "dockerImageVersionId": 30747,
   "isGpuEnabled": false,
   "isInternetEnabled": true,
   "language": "python",
   "sourceType": "notebook"
  },
  "kernelspec": {
   "display_name": "Python 3",
   "language": "python",
   "name": "python3"
  },
  "language_info": {
   "codemirror_mode": {
    "name": "ipython",
    "version": 3
   },
   "file_extension": ".py",
   "mimetype": "text/x-python",
   "name": "python",
   "nbconvert_exporter": "python",
   "pygments_lexer": "ipython3",
   "version": "3.10.13"
  },
  "papermill": {
   "default_parameters": {},
   "duration": 35198.565223,
   "end_time": "2024-08-23T00:00:18.902408",
   "environment_variables": {},
   "exception": null,
   "input_path": "__notebook__.ipynb",
   "output_path": "__notebook__.ipynb",
   "parameters": {},
   "start_time": "2024-08-22T14:13:40.337185",
   "version": "2.5.0"
  }
 },
 "nbformat": 4,
 "nbformat_minor": 5
}
